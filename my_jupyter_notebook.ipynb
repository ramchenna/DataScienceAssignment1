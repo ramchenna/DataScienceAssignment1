{
 "cells": [
  {
   "cell_type": "markdown",
   "id": "0fc7bd5d",
   "metadata": {},
   "source": [
    "# My Jupyter Notebook on IBM Watson Studio"
   ]
  },
  {
   "cell_type": "markdown",
   "id": "9de4784e",
   "metadata": {},
   "source": [
    "**Your Name**\n",
    "\n",
    "Your Current or Desired Occupation"
   ]
  },
  {
   "cell_type": "markdown",
   "id": "efaaf608",
   "metadata": {},
   "source": [
    "_I am interested in data science because it allows me to solve complex problems with data-driven insights._"
   ]
  },
  {
   "cell_type": "markdown",
   "id": "fddc15ae",
   "metadata": {},
   "source": [
    "### Simple Addition Example\n",
    "This is a simple demonstration of adding two numbers in Python."
   ]
  },
  {
   "cell_type": "code",
   "execution_count": null,
   "id": "b9686681",
   "metadata": {},
   "outputs": [],
   "source": [
    "1 + 1"
   ]
  },
  {
   "cell_type": "markdown",
   "id": "e1193a95",
   "metadata": {},
   "source": [
    "\n",
    "- Bullet list item 1\n",
    "- Bullet list item 2\n",
    "- Bullet list item 3\n",
    "\n",
    "1. Numbered list item 1\n",
    "2. Numbered list item 2\n",
    "\n",
    "| Header 1 | Header 2 |\n",
    "|----------|----------|\n",
    "| Data 1   | Data 2   |\n",
    "\n",
    "[Hyperlink to Google](https://www.google.com)\n"
   ]
  }
 ],
 "metadata": {},
 "nbformat": 4,
 "nbformat_minor": 5
}
