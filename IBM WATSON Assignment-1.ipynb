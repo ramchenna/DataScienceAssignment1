{
    "metadata": {
        "kernelspec": {
            "name": "python3",
            "display_name": "Python 3.11",
            "language": "python"
        },
        "language_info": {
            "name": "python",
            "version": "3.11.9",
            "mimetype": "text/x-python",
            "codemirror_mode": {
                "name": "ipython",
                "version": 3
            },
            "pygments_lexer": "ipython3",
            "nbconvert_exporter": "python",
            "file_extension": ".py"
        }
    },
    "nbformat_minor": 4,
    "nbformat": 4,
    "cells": [
        {
            "cell_type": "markdown",
            "source": "# My Jupyter Notebook on IBM Watson Studio",
            "metadata": {
                "collapsed": true,
                "jupyter": {
                    "outputs_hidden": true
                },
                "id": "7ac35ed7-74ed-4a11-a007-b9fc89b90793"
            }
        },
        {
            "cell_type": "markdown",
            "source": "**Parshuram Chenna** : Chief Data Scientist",
            "metadata": {
                "id": "28fdd26b-b0e8-4483-b416-2adaf677caf5"
            }
        },
        {
            "cell_type": "markdown",
            "source": "*I am interested in data science because, i like to work with data and perform predictive analytics.*",
            "metadata": {
                "id": "b6882da5-5ed9-4601-a1e1-2c8f1540f8be"
            }
        },
        {
            "cell_type": "code",
            "source": "### The IBM WATSON Assignment tests your knowledge on Jupyter Notebook and the runtime environment ###",
            "metadata": {
                "id": "cdce7135-2b70-4452-8aee-59e4c538f368"
            },
            "outputs": [],
            "execution_count": 1
        },
        {
            "cell_type": "code",
            "source": "print(1+1)",
            "metadata": {
                "id": "156f92b3-4420-436c-a373-ec5a67c881fb"
            },
            "outputs": [
                {
                    "name": "stdout",
                    "text": "2\n",
                    "output_type": "stream"
                }
            ],
            "execution_count": 2
        },
        {
            "cell_type": "markdown",
            "source": "- **Bulleted List:**\n  - Item 1\n  - Item 2\n  - Item 3\n\n1. **Numbered List:**\n   1. First item\n   2. Second item\n\n**Table:**\n\n| Column 1 | Column 2 |\n|----------|----------|\n| Row 1    | Data 1   |\n| Row 2    | Data 2   |\n\n**Hyperlink:**  \n[Click here to visit Google](https://www.google.com)\n\n**Image:**  \n![Sample Image](https://via.placeholder.com/150)\n",
            "metadata": {
                "id": "e03e09c4-7f72-4dfb-90d1-5c1aa3687058"
            }
        },
        {
            "cell_type": "code",
            "source": "",
            "metadata": {
                "id": "2f164357-7d15-4758-abe0-33d9e6054e93"
            },
            "outputs": [],
            "execution_count": null
        }
    ]
}